{
 "cells": [
  {
   "cell_type": "code",
   "execution_count": 162,
   "metadata": {},
   "outputs": [],
   "source": [
    "import json\n",
    "import pandas as pd\n",
    "import re\n",
    "import os"
   ]
  },
  {
   "cell_type": "code",
   "execution_count": 163,
   "metadata": {},
   "outputs": [],
   "source": [
    "with open('dataset.json','rb') as json_file:\n",
    "    dataset = json.load(json_file)\n",
    "codeforces_dataset = list()\n",
    "for problem in dataset:\n",
    "    if ('codeforces' in problem['source']):\n",
    "        for solution in problem['solutions']:\n",
    "            if (solution['code'] != None and problem['index']):\n",
    "                codeforces_dataset.append({'problem':problem['index'],'code_name' : problem['index'], 'code_content': solution['code'],'tags':problem['tags']})"
   ]
  },
  {
   "cell_type": "code",
   "execution_count": 164,
   "metadata": {},
   "outputs": [],
   "source": [
    "class Code_Preprocessing():\n",
    "    def __init__(self,text):\n",
    "        self.text = text\n",
    "    def lower_text(self):\n",
    "        return self.text.lower()\n",
    "    def comment_remover(self):\n",
    "        def replacer(match):\n",
    "            s = match.group(0)\n",
    "            if s.startswith('/'):\n",
    "                return \" \" # note: a space and not an empty string\n",
    "            else:\n",
    "                return s\n",
    "        pattern = re.compile(\n",
    "            r'//.*?$|/\\*.*?\\*/|\\'(?:\\\\.|[^\\\\\\'])*\\'|\"(?:\\\\.|[^\\\\\"])*\"',\n",
    "            re.DOTALL | re.MULTILINE)\n",
    "        return re.sub(pattern, replacer, self.text)\n",
    "    def clean_space_line(self):\n",
    "        self.text = self.text.replace('\\n',' ')\n",
    "        self.text = ' '.join(self.text.split())\n",
    "        return self.text\n",
    "    def clean(self):\n",
    "        self.text = self.lower_text()\n",
    "        self.text = self.comment_remover()\n",
    "        self.text = self.clean_space_line()\n",
    "        return self.text"
   ]
  },
  {
   "cell_type": "code",
   "execution_count": 165,
   "metadata": {},
   "outputs": [
    {
     "data": {
      "text/html": [
       "<div>\n",
       "<style scoped>\n",
       "    .dataframe tbody tr th:only-of-type {\n",
       "        vertical-align: middle;\n",
       "    }\n",
       "\n",
       "    .dataframe tbody tr th {\n",
       "        vertical-align: top;\n",
       "    }\n",
       "\n",
       "    .dataframe thead th {\n",
       "        text-align: right;\n",
       "    }\n",
       "</style>\n",
       "<table border=\"1\" class=\"dataframe\">\n",
       "  <thead>\n",
       "    <tr style=\"text-align: right;\">\n",
       "      <th></th>\n",
       "      <th>problem</th>\n",
       "      <th>code_name</th>\n",
       "      <th>code_content</th>\n",
       "      <th>tags</th>\n",
       "    </tr>\n",
       "  </thead>\n",
       "  <tbody>\n",
       "    <tr>\n",
       "      <th>0</th>\n",
       "      <td>1366_G</td>\n",
       "      <td>1366G</td>\n",
       "      <td>#include&lt;cstdio&gt; #include&lt;cstdlib&gt; #include&lt;cs...</td>\n",
       "      <td>[dp &amp; greedy, dp, data structures, strings]</td>\n",
       "    </tr>\n",
       "    <tr>\n",
       "      <th>1</th>\n",
       "      <td>1366_G</td>\n",
       "      <td>1366G</td>\n",
       "      <td>#include&lt;bits/stdc++.h&gt; #define f first #defin...</td>\n",
       "      <td>[dp &amp; greedy, dp, data structures, strings]</td>\n",
       "    </tr>\n",
       "    <tr>\n",
       "      <th>2</th>\n",
       "      <td>1366_G</td>\n",
       "      <td>1366G</td>\n",
       "      <td>#include &lt;bits/stdc++.h&gt; using namespace std; ...</td>\n",
       "      <td>[dp &amp; greedy, dp, data structures, strings]</td>\n",
       "    </tr>\n",
       "    <tr>\n",
       "      <th>3</th>\n",
       "      <td>1366_F</td>\n",
       "      <td>1366F</td>\n",
       "      <td>#include &lt;bits/stdc++.h&gt; using namespace std; ...</td>\n",
       "      <td>[geometry, binary search, dp, graphs, dp &amp; gre...</td>\n",
       "    </tr>\n",
       "    <tr>\n",
       "      <th>4</th>\n",
       "      <td>1366_F</td>\n",
       "      <td>1366F</td>\n",
       "      <td>#include &lt;bits/stdc++.h&gt; #define f first #defi...</td>\n",
       "      <td>[geometry, binary search, dp, graphs, dp &amp; gre...</td>\n",
       "    </tr>\n",
       "  </tbody>\n",
       "</table>\n",
       "</div>"
      ],
      "text/plain": [
       "  problem code_name                                       code_content  \\\n",
       "0  1366_G     1366G  #include<cstdio> #include<cstdlib> #include<cs...   \n",
       "1  1366_G     1366G  #include<bits/stdc++.h> #define f first #defin...   \n",
       "2  1366_G     1366G  #include <bits/stdc++.h> using namespace std; ...   \n",
       "3  1366_F     1366F  #include <bits/stdc++.h> using namespace std; ...   \n",
       "4  1366_F     1366F  #include <bits/stdc++.h> #define f first #defi...   \n",
       "\n",
       "                                                tags  \n",
       "0        [dp & greedy, dp, data structures, strings]  \n",
       "1        [dp & greedy, dp, data structures, strings]  \n",
       "2        [dp & greedy, dp, data structures, strings]  \n",
       "3  [geometry, binary search, dp, graphs, dp & gre...  \n",
       "4  [geometry, binary search, dp, graphs, dp & gre...  "
      ]
     },
     "execution_count": 165,
     "metadata": {},
     "output_type": "execute_result"
    }
   ],
   "source": [
    "codeforces_dataset = pd.DataFrame(data = codeforces_dataset)\n",
    "for index in range(len(codeforces_dataset['code_content'])):\n",
    "    reg = re.match('(\\d+)(\\w+)',codeforces_dataset['problem'][index])\n",
    "    codeforces_dataset['problem'][index] = reg.groups()[0] + '_' + reg.groups()[1]\n",
    "    codeforces_dataset['code_content'][index] = Code_Preprocessing(codeforces_dataset['code_content'][index]).clean()\n",
    "codeforces_dataset.head()"
   ]
  },
  {
   "cell_type": "code",
   "execution_count": 166,
   "metadata": {},
   "outputs": [],
   "source": [
    "remove_list = list()\n",
    "for index in range(len(codeforces_dataset['problem'])):\n",
    "    if (codeforces_dataset['problem'][index] not in os.listdir('code_forces_6_3')):\n",
    "        remove_list.append(codeforces_dataset['problem'][index])"
   ]
  },
  {
   "cell_type": "code",
   "execution_count": 167,
   "metadata": {},
   "outputs": [],
   "source": [
    "dataset = codeforces_dataset[codeforces_dataset['problem'].isin(remove_list) == True]"
   ]
  },
  {
   "cell_type": "code",
   "execution_count": 168,
   "metadata": {},
   "outputs": [],
   "source": [
    "path = 'add_dataset/'\n",
    "num = 0\n",
    "for index in range(len(dataset)):\n",
    "    if os.path.exists(path + dataset['problem'].iloc[index]) == False:\n",
    "            os.mkdir(path + dataset['problem'].iloc[index])\n",
    "    with open(path + dataset['problem'].iloc[index] + '/' + str(num) + '.cpp', 'w') as cpp_file:\n",
    "        cpp_file.write(dataset['code_content'].iloc[index])\n",
    "    num+=1"
   ]
  },
  {
   "cell_type": "code",
   "execution_count": 169,
   "metadata": {},
   "outputs": [
    {
     "name": "stdout",
     "output_type": "stream",
     "text": [
      "<class 'str'>\n"
     ]
    }
   ],
   "source": [
    "print(type(dataset['problem'].iloc[0]))"
   ]
  }
 ],
 "metadata": {
  "kernelspec": {
   "display_name": "Python 3.10.5 ('tfvenv')",
   "language": "python",
   "name": "python3"
  },
  "language_info": {
   "codemirror_mode": {
    "name": "ipython",
    "version": 3
   },
   "file_extension": ".py",
   "mimetype": "text/x-python",
   "name": "python",
   "nbconvert_exporter": "python",
   "pygments_lexer": "ipython3",
   "version": "3.10.5"
  },
  "orig_nbformat": 4,
  "vscode": {
   "interpreter": {
    "hash": "cde383c4edfe781c04f6ed90a70da7cdac57a2cb156368bdc447603448886d64"
   }
  }
 },
 "nbformat": 4,
 "nbformat_minor": 2
}
