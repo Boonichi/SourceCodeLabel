{
 "cells": [
  {
   "cell_type": "code",
   "execution_count": 1,
   "metadata": {},
   "outputs": [],
   "source": [
    "import os\n",
    "from collections import defaultdict\n",
    "import pandas as pd\n",
    "from tensorflow.keras.preprocessing.text import Tokenizer\n",
    "from tensorflow.keras.preprocessing.sequence import pad_sequences\n",
    "from sklearn.feature_extraction.text import CountVectorizer\n",
    "from sklearn.model_selection import train_test_split\n",
    "from tensorflow.keras.layers import Embedding,LSTM, Dense, Dropout\n",
    "from tensorflow.keras import Sequential\n",
    "from tensorflow.keras.losses import BinaryCrossentropy\n",
    "from tensorflow.keras.callbacks import EarlyStopping\n",
    "from tensorflow.keras.losses import binary_crossentropy\n",
    "from sklearn.preprocessing import MultiLabelBinarizer\n",
    "import numpy as np\n",
    "from tensorflow_addons.losses import SigmoidFocalCrossEntropy\n",
    "from tensorflow.keras.models import load_model\n",
    "import lizard\n",
    "import json\n",
    "from tqdm import tqdm"
   ]
  },
  {
   "cell_type": "code",
   "execution_count": 2,
   "metadata": {},
   "outputs": [
    {
     "name": "stdout",
     "output_type": "stream",
     "text": [
      "{'filename': '../code_forces/1_A/300963.txt', 'nloc': 2, 'function_list': [<lizard.FunctionInfo object at 0x113bfc1c0>], 'token_count': 61}\n",
      "{'cyclomatic_complexity': 1, 'nloc': 1, 'token_count': 52, 'name': 'main', 'long_name': 'main()', 'start_line': 2, 'end_line': 2, 'full_parameters': [], 'filename': '../code_forces/1_A/300963.txt', 'top_nesting_level': 0, 'fan_in': 0, 'fan_out': 0, 'general_fan_out': 0}\n"
     ]
    }
   ],
   "source": [
    "cyclomatic_complex = lizard.analyze_file('../code_forces/1_A/300963.txt')\n",
    "print(cyclomatic_complex.__dict__)\n",
    "for i in cyclomatic_complex.function_list:\n",
    "    print(i.__dict__)"
   ]
  },
  {
   "cell_type": "code",
   "execution_count": 3,
   "metadata": {},
   "outputs": [
    {
     "name": "stderr",
     "output_type": "stream",
     "text": [
      "100%|██████████| 2167/2167 [04:52<00:00,  7.40it/s]\n"
     ]
    }
   ],
   "source": [
    "summary = list()\n",
    "with open('../problem_set.json','r') as file:\n",
    "    problem_info = json.load(file)\n",
    "problems = list()\n",
    "with open('../_tags.txt') as file:\n",
    "    content = file.readlines()\n",
    "    for line in content:\n",
    "        problem = list(eval(line).items())[0][0]\n",
    "        problems.append(problem)\n",
    "for problem in tqdm(problems):\n",
    "    if (problem != '.DS_Store'):\n",
    "        for code in os.listdir('../code_forces/' + problem + '/'):\n",
    "            if (code != '.DS_Store'):\n",
    "                [contest_num, problem_index] = problem.split('_')\n",
    "                for index in problem_info['result']['problems']:\n",
    "                    if (index['contestId'] == int(contest_num)) and (index['index'] == problem_index):\n",
    "                        info_list = {}\n",
    "                        info_list['problem'] = problem\n",
    "                        info_list['code'] = code\n",
    "                        file_analyze = lizard.analyze_file('../code_forces/' + problem + '/' + code)\n",
    "                        cc_num = 0\n",
    "                        nloc = 0\n",
    "                        token_count = 0\n",
    "                        for i in file_analyze.function_list:\n",
    "                            cc_num+=i.__dict__['cyclomatic_complexity']\n",
    "                            nloc+=i.__dict__['nloc']\n",
    "                            token_count+=i.__dict__['token_count']\n",
    "                        info_list['ccn'] = cc_num\n",
    "                        info_list['nloc'] = nloc\n",
    "                        info_list['token_count'] = token_count\n",
    "                        try:\n",
    "                            info_list['rating'] = index['rating']\n",
    "                        except: info_list['rating'] = 0\n",
    "                summary.append(info_list)"
   ]
  },
  {
   "cell_type": "code",
   "execution_count": 5,
   "metadata": {},
   "outputs": [],
   "source": [
    "with open('_metrics.txt','w') as file:\n",
    "    for index in summary:\n",
    "        file.write(str(index) + '\\n')"
   ]
  }
 ],
 "metadata": {
  "kernelspec": {
   "display_name": "Python 3.8.12 ('tfvenv')",
   "language": "python",
   "name": "python3"
  },
  "language_info": {
   "codemirror_mode": {
    "name": "ipython",
    "version": 3
   },
   "file_extension": ".py",
   "mimetype": "text/x-python",
   "name": "python",
   "nbconvert_exporter": "python",
   "pygments_lexer": "ipython3",
   "version": "3.8.12"
  },
  "orig_nbformat": 4,
  "vscode": {
   "interpreter": {
    "hash": "2b1e9e17499bdcd617ac999b9e0d15ff9db669911519856cfe61d394451d2847"
   }
  }
 },
 "nbformat": 4,
 "nbformat_minor": 2
}
