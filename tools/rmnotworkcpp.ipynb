{
 "cells": [
  {
   "cell_type": "code",
   "execution_count": 1,
   "metadata": {},
   "outputs": [],
   "source": [
    "import os\n",
    "import sys\n",
    "from subprocess import *\n",
    "import xml.etree.ElementTree as ET\n",
    "from IPython.display import clear_output\n",
    "from tqdm import tqdm\n",
    "import subprocess\n",
    "import signal"
   ]
  },
  {
   "cell_type": "code",
   "execution_count": 2,
   "metadata": {},
   "outputs": [],
   "source": [
    "def syscmd(cmd, encoding=''):\n",
    "    \"\"\"\n",
    "    Runs a command on the system, waits for the command to finish, and then\n",
    "    returns the text output of the command. If the command produces no text\n",
    "    output, the command's return code will be returned instead.\n",
    "    \"\"\"\n",
    "    p = Popen(cmd, shell=True, stdin=PIPE, stdout=PIPE, stderr=STDOUT,\n",
    "        close_fds=True)\n",
    "    p.wait()\n",
    "    output = p.stdout.read()\n",
    "    if len(output) > 1:\n",
    "        if encoding: return output.decode(encoding)\n",
    "        else: return output\n",
    "    return p.returncode"
   ]
  },
  {
   "cell_type": "code",
   "execution_count": 3,
   "metadata": {},
   "outputs": [
    {
     "data": {
      "text/plain": [
       "<Handlers.SIG_DFL: 0>"
      ]
     },
     "execution_count": 3,
     "metadata": {},
     "output_type": "execute_result"
    }
   ],
   "source": [
    "class TimeoutException(Exception):\n",
    "    pass\n",
    "def timeout_handler(signum, frame):\n",
    "    raise TimeoutException\n",
    "\n",
    "signal.signal(signal.SIGALRM, timeout_handler)"
   ]
  },
  {
   "cell_type": "code",
   "execution_count": 4,
   "metadata": {},
   "outputs": [
    {
     "name": "stderr",
     "output_type": "stream",
     "text": [
      " 30%|███       | 1725/5686 [10:57<3:34:28,  3.25s/it]"
     ]
    },
    {
     "name": "stdout",
     "output_type": "stream",
     "text": [
      "../dataset/222_C/14249817.cpp\n"
     ]
    },
    {
     "name": "stderr",
     "output_type": "stream",
     "text": [
      " 36%|███▌      | 2023/5686 [12:40<25:58,  2.35it/s]  "
     ]
    },
    {
     "name": "stdout",
     "output_type": "stream",
     "text": [
      "../dataset/268_D/12924.cpp\n"
     ]
    },
    {
     "name": "stderr",
     "output_type": "stream",
     "text": [
      " 36%|███▌      | 2027/5686 [13:35<6:49:36,  6.72s/it] "
     ]
    },
    {
     "name": "stdout",
     "output_type": "stream",
     "text": [
      "../dataset/268_D/12926.cpp\n"
     ]
    },
    {
     "name": "stderr",
     "output_type": "stream",
     "text": [
      " 44%|████▎     | 2485/5686 [16:16<15:40,  3.40it/s]  "
     ]
    },
    {
     "name": "stdout",
     "output_type": "stream",
     "text": [
      "../dataset/581_D/13321361.cpp\n"
     ]
    },
    {
     "name": "stderr",
     "output_type": "stream",
     "text": [
      " 85%|████████▌ | 4839/5686 [31:11<33:48,  2.40s/it]  "
     ]
    },
    {
     "name": "stdout",
     "output_type": "stream",
     "text": [
      "../dataset/264_B/10921255.cpp\n"
     ]
    },
    {
     "name": "stderr",
     "output_type": "stream",
     "text": [
      " 92%|█████████▏| 5254/5686 [33:39<16:18,  2.26s/it]"
     ]
    },
    {
     "name": "stdout",
     "output_type": "stream",
     "text": [
      "../dataset/994_A/39440927.cpp\n"
     ]
    },
    {
     "name": "stderr",
     "output_type": "stream",
     "text": [
      "100%|██████████| 5686/5686 [36:11<00:00,  2.62it/s]\n"
     ]
    },
    {
     "ename": "",
     "evalue": "",
     "output_type": "error",
     "traceback": [
      "\u001b[1;31mThe Kernel crashed while executing code in the the current cell or a previous cell. Please review the code in the cell(s) to identify a possible cause of the failure. Click <a href='https://aka.ms/vscodeJupyterKernelCrash'>here</a> for more info. View Jupyter <a href='command:jupyter.viewOutput'>log</a> for further details."
     ]
    }
   ],
   "source": [
    "input_dir = \"../dataset/\"\n",
    "cnt = 0\n",
    "checklist = []\n",
    "for folder in tqdm(os.listdir(input_dir)):\n",
    "    if (folder != \".DS_Store\"):\n",
    "        for file in os.listdir(os.path.join(input_dir, folder)):\n",
    "            file_path = os.path.join(input_dir, folder, file)\n",
    "            log_file = \"./log/log.txt\"\n",
    "            cmd  = \"cppcheck --enable=warning {}  --output-file={}\".format(file_path,log_file)\n",
    "            try:\n",
    "                syscmd(cmd)\n",
    "                signal.alarm(10)\n",
    "            except:\n",
    "                print(file_path)\n",
    "                os.remove(file_path)\n",
    "            with open(log_file, \"r\") as f:\n",
    "                log_content = f.readlines()\n",
    "                for line in log_content:\n",
    "                    if \"syntax error\" in line: \n",
    "                        os.remove(file_path)\n",
    "                        break\n",
    "            cnt+=1"
   ]
  }
 ],
 "metadata": {
  "kernelspec": {
   "display_name": "Python 3.9.13 ('tf')",
   "language": "python",
   "name": "python3"
  },
  "language_info": {
   "codemirror_mode": {
    "name": "ipython",
    "version": 3
   },
   "file_extension": ".py",
   "mimetype": "text/x-python",
   "name": "python",
   "nbconvert_exporter": "python",
   "pygments_lexer": "ipython3",
   "version": "3.9.13"
  },
  "orig_nbformat": 4,
  "vscode": {
   "interpreter": {
    "hash": "52ee2977380704a66854748a73250e0671a9318bd5b3fd45a3df9f851ae61629"
   }
  }
 },
 "nbformat": 4,
 "nbformat_minor": 2
}
