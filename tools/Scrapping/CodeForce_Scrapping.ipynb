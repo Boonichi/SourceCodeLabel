{
 "cells": [
  {
   "cell_type": "code",
   "execution_count": 1,
   "metadata": {},
   "outputs": [],
   "source": [
    "import os\n",
    "from time import sleep\n",
    "import pandas as pd\n",
    "import numpy as np\n",
    "from bs4 import BeautifulSoup as bs\n",
    "from selenium import webdriver\n",
    "from selenium.webdriver.common.keys import Keys\n",
    "from webdriver_manager.chrome import ChromeDriverManager\n",
    "from selenium.webdriver.common.by import By\n",
    "from selenium.webdriver.support.ui import WebDriverWait\n",
    "import re\n",
    "import json\n",
    "import urllib.request\n",
    "import requests"
   ]
  },
  {
   "cell_type": "code",
   "execution_count": 2,
   "metadata": {},
   "outputs": [],
   "source": [
    "#https://codeforces.com/contests\n",
    "#https://codeforces.com/contest/1698/status/A/page/2?order=BY_ARRIVED_DESC"
   ]
  },
  {
   "cell_type": "code",
   "execution_count": 3,
   "metadata": {},
   "outputs": [],
   "source": [
    "cf_url = 'https://codeforces.com'\n",
    "C_vers = ['GNU C++14','GNU C++17','GNU C++14','GNU C++20 (64)','MS C++ 2017', 'GNU C++17 (64)','Clang++20 Diagnostics','Clang++17 Diagnostics']\n",
    "problem_set_url = \"https://codeforces.com/api/problemset.problems\""
   ]
  },
  {
   "cell_type": "code",
   "execution_count": 4,
   "metadata": {},
   "outputs": [],
   "source": [
    "def handle_index(index):\n",
    "    index_re = '(\\d+)_(\\w+)'\n",
    "    result = re.match(index_re, index)\n",
    "    contest_num = result[1]\n",
    "    problem_key = result[2]\n",
    "    return contest_num, problem_key"
   ]
  },
  {
   "cell_type": "code",
   "execution_count": 5,
   "metadata": {},
   "outputs": [],
   "source": [
    "with open('../_tags.txt','r') as file:\n",
    "\tproblems = file.readlines()\n",
    "problem_index = []\n",
    "problem_tags = []\n",
    "for i in range(len(problems)):\n",
    "\tindex = list(eval(problems[i]).items())[0][0]\n",
    "\ttags = list(eval(problems[i]).items())[0][1]\n",
    "\tproblem_index.append(index)\n",
    "\tproblem_tags.append(tags)"
   ]
  },
  {
   "cell_type": "code",
   "execution_count": 6,
   "metadata": {},
   "outputs": [
    {
     "name": "stdout",
     "output_type": "stream",
     "text": [
      "\n"
     ]
    },
    {
     "name": "stderr",
     "output_type": "stream",
     "text": [
      "[WDM] - ====== WebDriver manager ======\n",
      "[WDM] - Current google-chrome version is 103.0.5060\n",
      "[WDM] - Get LATEST chromedriver version for 103.0.5060 google-chrome\n",
      "[WDM] - Driver [/Users/phanvanhung/.wdm/drivers/chromedriver/mac64_m1/103.0.5060.53/chromedriver] found in cache\n",
      "/var/folders/2r/vgdn5c2j5fb567xb2nm5_qfm0000gn/T/ipykernel_95195/1106099800.py:1: DeprecationWarning: executable_path has been deprecated, please pass in a Service object\n",
      "  drive = webdriver.Chrome(ChromeDriverManager().install())\n"
     ]
    }
   ],
   "source": [
    "drive = webdriver.Chrome(ChromeDriverManager().install())\n",
    "drive.maximize_window()\n",
    "wait = WebDriverWait(drive, 10)"
   ]
  },
  {
   "cell_type": "code",
   "execution_count": 7,
   "metadata": {},
   "outputs": [],
   "source": [
    "def Scrapping(problem_index):\n",
    "    contest_num, problem_key = handle_index(problem_index)\n",
    "    submission_path = '../code_forces/' + str(contest_num) + '_' + str(problem_key)+'/'\n",
    "    if not os.path.exists(submission_path): os.makedirs(submission_path)\n",
    "    page_submission = 1\n",
    "    save_file_num = len(os.listdir(submission_path))\n",
    "    while save_file_num <= 5:\n",
    "        file_num = 0\n",
    "        try:\n",
    "            drive.get(cf_url + '/contest/' + contest_num + '/status/'+problem_key+'/page/'+ str(page_submission) + \"?order=BY_JUDGED_DESC\")\n",
    "        except: break\n",
    "        xpath_submission_box = '//table//tbody//tr[@data-submission-id]//td'\n",
    "        submissions = drive.find_elements(By.XPATH, value = xpath_submission_box)\n",
    "        submission_num = []\n",
    "        for i in range(len(submissions)):\n",
    "            if (i % 8 == 0) and submissions[i + 4].text in C_vers:\n",
    "                submission_num.append(submissions[i].text)\n",
    "        for i in range(len(submission_num)):\n",
    "            submission_url = cf_url+'/contest/'+contest_num+'/submission/'+str(submission_num[i])\n",
    "            try:\n",
    "                page = requests.get(submission_url)\n",
    "                page = bs(page.content)\n",
    "                submission = page.find(\"pre\", attrs={\"class\":\"prettyprint lang-cpp linenums program-source\"}).text\n",
    "            except: pass\n",
    "            else:\n",
    "                file_num +=1\n",
    "                with open(submission_path + str(submission_num[i]) + '.txt', 'w') as file:\n",
    "                    try:\n",
    "                        file.write(submission)\n",
    "                    except: pass\n",
    "                    file.close()\n",
    "            if (file_num > 5): break\n",
    "        if (save_file_num == len(os.listdir(submission_path))): break\n",
    "        else: save_file_num = len(os.listdir(submission_path))\n",
    "        page_submission+=1\n",
    "    page_submission = 1"
   ]
  },
  {
   "cell_type": "code",
   "execution_count": 8,
   "metadata": {},
   "outputs": [],
   "source": [
    "check = False\n",
    "for i in range(len(problem_index))[::-1]:\n",
    "    Scrapping(problem_index[i])"
   ]
  }
 ],
 "metadata": {
  "kernelspec": {
   "display_name": "Python 3.8.12 ('tfvenv')",
   "language": "python",
   "name": "python3"
  },
  "language_info": {
   "codemirror_mode": {
    "name": "ipython",
    "version": 3
   },
   "file_extension": ".py",
   "mimetype": "text/x-python",
   "name": "python",
   "nbconvert_exporter": "python",
   "pygments_lexer": "ipython3",
   "version": "3.8.12"
  },
  "orig_nbformat": 4,
  "vscode": {
   "interpreter": {
    "hash": "2b1e9e17499bdcd617ac999b9e0d15ff9db669911519856cfe61d394451d2847"
   }
  }
 },
 "nbformat": 4,
 "nbformat_minor": 2
}
